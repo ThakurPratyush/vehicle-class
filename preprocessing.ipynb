{
 "cells": [
  {
   "cell_type": "code",
   "execution_count": 2,
   "id": "37578546",
   "metadata": {},
   "outputs": [],
   "source": [
    "import os\n",
    "from PIL import Image\n",
    "\n",
    "PATH = \"C:\\\\Users\\\\Ishu/Desktop\\\\vehicle classification\\\\dataset\\\\testset\\\\\"\n",
    "Copy_to_path=\"C:\\\\Users\\\\Ishu/Desktop\\\\vehicle classification\\\\dataset\\\\512_test\\\\\"\n",
    "\n",
    "for filename in os.listdir(PATH):\n",
    "    img = Image.open(os.path.join(PATH, filename)) # images are color images\n",
    "    img = img.resize((512,512), Image.ANTIALIAS)\n",
    "    img.save(Copy_to_path+filename)#+'.jpeg') "
   ]
  },
  {
   "cell_type": "code",
   "execution_count": null,
   "id": "2f730fcc",
   "metadata": {},
   "outputs": [],
   "source": []
  }
 ],
 "metadata": {
  "kernelspec": {
   "display_name": "Python 3",
   "language": "python",
   "name": "python3"
  },
  "language_info": {
   "codemirror_mode": {
    "name": "ipython",
    "version": 3
   },
   "file_extension": ".py",
   "mimetype": "text/x-python",
   "name": "python",
   "nbconvert_exporter": "python",
   "pygments_lexer": "ipython3",
   "version": "3.6.13"
  }
 },
 "nbformat": 4,
 "nbformat_minor": 5
}
