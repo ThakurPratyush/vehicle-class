{
 "cells": [
  {
   "cell_type": "code",
   "execution_count": 26,
   "id": "30d53bb9",
   "metadata": {},
   "outputs": [],
   "source": [
    "from PIL import Image\n",
    "import glob"
   ]
  },
  {
   "cell_type": "code",
   "execution_count": 27,
   "id": "d2555138",
   "metadata": {},
   "outputs": [],
   "source": [
    "#img_path = '/Users/Ishu/Desktop/car detector/test_images/abc/test1.jpg'\n",
    "img_path = '/Users/Ishu/Desktop/vehicle classification/dataset/train_resized_512/f1/000001_00_Bicycle.jpg'\n"
   ]
  },
  {
   "cell_type": "code",
   "execution_count": 28,
   "id": "d5ceffcd",
   "metadata": {},
   "outputs": [],
   "source": [
    "image_list = []\n",
    "resized = []"
   ]
  },
  {
   "cell_type": "code",
   "execution_count": 29,
   "id": "cdaf3459",
   "metadata": {},
   "outputs": [],
   "source": [
    "for filename in glob.glob('/Users/Ishu/Desktop/vehicle classification/dataset/train_resized_512/f1/*.jpg'):\n",
    "    img = Image.open(filename)\n",
    "    image_list.append(img)"
   ]
  },
  {
   "cell_type": "code",
   "execution_count": 30,
   "id": "9c2654b1",
   "metadata": {},
   "outputs": [
    {
     "data": {
      "text/plain": [
       "[<PIL.JpegImagePlugin.JpegImageFile image mode=RGB size=183x118 at 0x17274BEDA20>,\n",
       " <PIL.JpegImagePlugin.JpegImageFile image mode=RGB size=723x727 at 0x17274BEDA90>,\n",
       " <PIL.JpegImagePlugin.JpegImageFile image mode=RGB size=509x501 at 0x17274BEDB38>,\n",
       " <PIL.JpegImagePlugin.JpegImageFile image mode=RGB size=181x121 at 0x17274BEDBA8>,\n",
       " <PIL.JpegImagePlugin.JpegImageFile image mode=RGB size=2464x1949 at 0x17274BEDC18>,\n",
       " <PIL.JpegImagePlugin.JpegImageFile image mode=RGB size=1270x781 at 0x17274BEDC88>,\n",
       " <PIL.JpegImagePlugin.JpegImageFile image mode=RGB size=763x800 at 0x17274BEDCF8>,\n",
       " <PIL.JpegImagePlugin.JpegImageFile image mode=RGB size=168x243 at 0x17274BEDD68>,\n",
       " <PIL.JpegImagePlugin.JpegImageFile image mode=RGB size=1489x833 at 0x17274BEDDD8>,\n",
       " <PIL.JpegImagePlugin.JpegImageFile image mode=RGB size=176x116 at 0x17274BEDE48>,\n",
       " <PIL.JpegImagePlugin.JpegImageFile image mode=RGB size=2804x1836 at 0x17274BEDEB8>,\n",
       " <PIL.JpegImagePlugin.JpegImageFile image mode=RGB size=3071x1894 at 0x17274BEDF28>,\n",
       " <PIL.JpegImagePlugin.JpegImageFile image mode=RGB size=441x484 at 0x17274BEDF98>,\n",
       " <PIL.JpegImagePlugin.JpegImageFile image mode=RGB size=2382x860 at 0x17274BF8FD0>,\n",
       " <PIL.JpegImagePlugin.JpegImageFile image mode=RGB size=3481x2978 at 0x17274BF8048>,\n",
       " <PIL.JpegImagePlugin.JpegImageFile image mode=RGB size=165x57 at 0x17274BF80B8>,\n",
       " <PIL.JpegImagePlugin.JpegImageFile image mode=RGB size=351x275 at 0x17274BF8128>,\n",
       " <PIL.JpegImagePlugin.JpegImageFile image mode=RGB size=1670x1552 at 0x17274BF8198>,\n",
       " <PIL.JpegImagePlugin.JpegImageFile image mode=RGB size=667x457 at 0x17274BF8208>,\n",
       " <PIL.JpegImagePlugin.JpegImageFile image mode=RGB size=3369x2777 at 0x17274BF8278>,\n",
       " <PIL.JpegImagePlugin.JpegImageFile image mode=RGB size=1425x1405 at 0x17274BF82E8>,\n",
       " <PIL.JpegImagePlugin.JpegImageFile image mode=RGB size=1172x627 at 0x17274BF8358>,\n",
       " <PIL.JpegImagePlugin.JpegImageFile image mode=RGB size=1428x883 at 0x17274BED940>,\n",
       " <PIL.JpegImagePlugin.JpegImageFile image mode=RGB size=2371x1883 at 0x17274BF83C8>,\n",
       " <PIL.JpegImagePlugin.JpegImageFile image mode=RGB size=5473x3508 at 0x17274BF8438>,\n",
       " <PIL.JpegImagePlugin.JpegImageFile image mode=RGB size=511x311 at 0x17274BF84A8>,\n",
       " <PIL.JpegImagePlugin.JpegImageFile image mode=RGB size=435x175 at 0x17274BF8518>,\n",
       " <PIL.JpegImagePlugin.JpegImageFile image mode=RGB size=1297x1327 at 0x17274BF8588>,\n",
       " <PIL.JpegImagePlugin.JpegImageFile image mode=RGB size=199x111 at 0x17274BF85F8>,\n",
       " <PIL.JpegImagePlugin.JpegImageFile image mode=RGB size=542x321 at 0x17274BF8668>,\n",
       " <PIL.JpegImagePlugin.JpegImageFile image mode=RGB size=184x150 at 0x17274BF86D8>,\n",
       " <PIL.JpegImagePlugin.JpegImageFile image mode=RGB size=1144x1398 at 0x17274BF8748>,\n",
       " <PIL.JpegImagePlugin.JpegImageFile image mode=RGB size=39x37 at 0x17274BF87B8>,\n",
       " <PIL.JpegImagePlugin.JpegImageFile image mode=RGB size=189x80 at 0x17274BF8828>,\n",
       " <PIL.JpegImagePlugin.JpegImageFile image mode=RGB size=980x2392 at 0x17274BF8898>,\n",
       " <PIL.JpegImagePlugin.JpegImageFile image mode=RGB size=192x200 at 0x17274BF8908>,\n",
       " <PIL.JpegImagePlugin.JpegImageFile image mode=RGB size=1920x2206 at 0x17274BF8978>,\n",
       " <PIL.JpegImagePlugin.JpegImageFile image mode=RGB size=429x152 at 0x17274BF89E8>,\n",
       " <PIL.JpegImagePlugin.JpegImageFile image mode=RGB size=207x110 at 0x17274BF8A58>,\n",
       " <PIL.JpegImagePlugin.JpegImageFile image mode=RGB size=1430x1304 at 0x17274BF8AC8>,\n",
       " <PIL.JpegImagePlugin.JpegImageFile image mode=RGB size=331x194 at 0x17274BF8B38>,\n",
       " <PIL.JpegImagePlugin.JpegImageFile image mode=RGB size=1039x745 at 0x17274BF8BA8>,\n",
       " <PIL.JpegImagePlugin.JpegImageFile image mode=RGB size=2688x1752 at 0x17274BF8C18>,\n",
       " <PIL.JpegImagePlugin.JpegImageFile image mode=RGB size=734x732 at 0x17274BF8C88>,\n",
       " <PIL.JpegImagePlugin.JpegImageFile image mode=RGB size=147x572 at 0x17274BF8CF8>,\n",
       " <PIL.JpegImagePlugin.JpegImageFile image mode=RGB size=107x97 at 0x17274BF8D68>,\n",
       " <PIL.JpegImagePlugin.JpegImageFile image mode=RGB size=600x243 at 0x17274BF8DD8>,\n",
       " <PIL.JpegImagePlugin.JpegImageFile image mode=RGB size=2459x1561 at 0x17274BF8E48>,\n",
       " <PIL.JpegImagePlugin.JpegImageFile image mode=RGB size=126x88 at 0x17274BF8EB8>,\n",
       " <PIL.JpegImagePlugin.JpegImageFile image mode=RGB size=1960x447 at 0x172741BF198>,\n",
       " <PIL.JpegImagePlugin.JpegImageFile image mode=RGB size=1605x1443 at 0x172741BF358>,\n",
       " <PIL.JpegImagePlugin.JpegImageFile image mode=RGB size=76x97 at 0x172741BF438>,\n",
       " <PIL.JpegImagePlugin.JpegImageFile image mode=RGB size=614x614 at 0x172741BFDD8>,\n",
       " <PIL.JpegImagePlugin.JpegImageFile image mode=RGB size=100x78 at 0x172746C6048>,\n",
       " <PIL.JpegImagePlugin.JpegImageFile image mode=RGB size=104x94 at 0x172746C60F0>,\n",
       " <PIL.JpegImagePlugin.JpegImageFile image mode=RGB size=408x235 at 0x172746C6128>,\n",
       " <PIL.JpegImagePlugin.JpegImageFile image mode=RGB size=169x411 at 0x172746C6240>,\n",
       " <PIL.JpegImagePlugin.JpegImageFile image mode=RGB size=1066x619 at 0x172746C6160>,\n",
       " <PIL.JpegImagePlugin.JpegImageFile image mode=RGB size=1012x781 at 0x172746C6278>,\n",
       " <PIL.JpegImagePlugin.JpegImageFile image mode=RGB size=1531x1418 at 0x172746C6358>,\n",
       " <PIL.JpegImagePlugin.JpegImageFile image mode=RGB size=2171x1495 at 0x172746C63C8>,\n",
       " <PIL.JpegImagePlugin.JpegImageFile image mode=RGB size=96x84 at 0x172746C6438>,\n",
       " <PIL.JpegImagePlugin.JpegImageFile image mode=RGB size=392x387 at 0x172746C64A8>,\n",
       " <PIL.JpegImagePlugin.JpegImageFile image mode=RGB size=343x197 at 0x172746C6518>,\n",
       " <PIL.JpegImagePlugin.JpegImageFile image mode=RGB size=755x778 at 0x172746C6588>,\n",
       " <PIL.JpegImagePlugin.JpegImageFile image mode=RGB size=475x321 at 0x172746C65F8>,\n",
       " <PIL.JpegImagePlugin.JpegImageFile image mode=RGB size=1443x1158 at 0x172746C6668>,\n",
       " <PIL.JpegImagePlugin.JpegImageFile image mode=RGB size=1067x1476 at 0x172746C66D8>,\n",
       " <PIL.JpegImagePlugin.JpegImageFile image mode=RGB size=228x271 at 0x172746C6748>,\n",
       " <PIL.JpegImagePlugin.JpegImageFile image mode=RGB size=368x210 at 0x172746C67B8>,\n",
       " <PIL.JpegImagePlugin.JpegImageFile image mode=RGB size=5194x2723 at 0x172746C6828>,\n",
       " <PIL.JpegImagePlugin.JpegImageFile image mode=RGB size=261x193 at 0x172746C6898>,\n",
       " <PIL.JpegImagePlugin.JpegImageFile image mode=RGB size=220x99 at 0x172746C6908>,\n",
       " <PIL.JpegImagePlugin.JpegImageFile image mode=RGB size=1285x276 at 0x172746C6978>,\n",
       " <PIL.JpegImagePlugin.JpegImageFile image mode=RGB size=241x131 at 0x172746C69E8>,\n",
       " <PIL.JpegImagePlugin.JpegImageFile image mode=RGB size=157x143 at 0x172746C6A58>,\n",
       " <PIL.JpegImagePlugin.JpegImageFile image mode=RGB size=2192x972 at 0x172746C6AC8>,\n",
       " <PIL.JpegImagePlugin.JpegImageFile image mode=RGB size=1273x1189 at 0x172746C6B38>,\n",
       " <PIL.JpegImagePlugin.JpegImageFile image mode=RGB size=1600x762 at 0x172746C6BA8>,\n",
       " <PIL.JpegImagePlugin.JpegImageFile image mode=RGB size=77x91 at 0x172746C6C18>,\n",
       " <PIL.JpegImagePlugin.JpegImageFile image mode=RGB size=1058x709 at 0x172746C6C88>,\n",
       " <PIL.JpegImagePlugin.JpegImageFile image mode=RGB size=206x226 at 0x172746C6CF8>,\n",
       " <PIL.JpegImagePlugin.JpegImageFile image mode=RGB size=928x681 at 0x172746C6D68>,\n",
       " <PIL.JpegImagePlugin.JpegImageFile image mode=RGB size=1077x720 at 0x172746C6DD8>,\n",
       " <PIL.JpegImagePlugin.JpegImageFile image mode=RGB size=125x234 at 0x172746C6E48>,\n",
       " <PIL.JpegImagePlugin.JpegImageFile image mode=RGB size=382x677 at 0x172746C6EB8>,\n",
       " <PIL.JpegImagePlugin.JpegImageFile image mode=RGB size=2395x1339 at 0x172746C6F28>,\n",
       " <PIL.JpegImagePlugin.JpegImageFile image mode=RGB size=156x98 at 0x172746C6F98>,\n",
       " <PIL.JpegImagePlugin.JpegImageFile image mode=RGB size=306x233 at 0x17203E6F048>,\n",
       " <PIL.JpegImagePlugin.JpegImageFile image mode=RGB size=1142x609 at 0x17203E6F0B8>,\n",
       " <PIL.JpegImagePlugin.JpegImageFile image mode=RGB size=189x492 at 0x17203E6F128>,\n",
       " <PIL.JpegImagePlugin.JpegImageFile image mode=RGB size=61x43 at 0x17203E6F198>,\n",
       " <PIL.JpegImagePlugin.JpegImageFile image mode=RGB size=303x330 at 0x17203E6F208>,\n",
       " <PIL.JpegImagePlugin.JpegImageFile image mode=RGB size=703x496 at 0x17203E6F278>,\n",
       " <PIL.JpegImagePlugin.JpegImageFile image mode=RGB size=1409x3181 at 0x17203E6F2E8>,\n",
       " <PIL.JpegImagePlugin.JpegImageFile image mode=RGB size=977x1105 at 0x17203E6F358>,\n",
       " <PIL.JpegImagePlugin.JpegImageFile image mode=RGB size=2223x2215 at 0x17203E6F3C8>,\n",
       " <PIL.JpegImagePlugin.JpegImageFile image mode=RGB size=616x248 at 0x17203E6F438>,\n",
       " <PIL.JpegImagePlugin.JpegImageFile image mode=RGB size=157x182 at 0x17203E6F4A8>]"
      ]
     },
     "execution_count": 30,
     "metadata": {},
     "output_type": "execute_result"
    }
   ],
   "source": [
    "image_list"
   ]
  },
  {
   "cell_type": "code",
   "execution_count": 31,
   "id": "8bab1457",
   "metadata": {},
   "outputs": [],
   "source": [
    "for image in image_list:\n",
    "    image = image.resize((512,512))\n",
    "    resized.append(image)"
   ]
  },
  {
   "cell_type": "code",
   "execution_count": 33,
   "id": "d411706d",
   "metadata": {},
   "outputs": [],
   "source": [
    "import os\n",
    "mylist = os.listdir('/Users/Ishu/Desktop/vehicle classification/dataset/train_resized_512/f1/f1o')\n",
    "#mylist = os.listdir('/Users/Ishu/Desktop/car detector/test_images/abc')\n",
    "#print(mylist)"
   ]
  },
  {
   "cell_type": "code",
   "execution_count": 40,
   "id": "cfffae15",
   "metadata": {},
   "outputs": [
    {
     "ename": "IndexError",
     "evalue": "list index out of range",
     "output_type": "error",
     "traceback": [
      "\u001b[1;31m---------------------------------------------------------------------------\u001b[0m",
      "\u001b[1;31mIndexError\u001b[0m                                Traceback (most recent call last)",
      "\u001b[1;32m<ipython-input-40-6a34322eef4a>\u001b[0m in \u001b[0;36m<module>\u001b[1;34m\u001b[0m\n\u001b[0;32m      1\u001b[0m \u001b[1;32mfor\u001b[0m \u001b[1;33m(\u001b[0m\u001b[0mi\u001b[0m\u001b[1;33m,\u001b[0m\u001b[0mnew\u001b[0m\u001b[1;33m)\u001b[0m \u001b[1;32min\u001b[0m \u001b[0menumerate\u001b[0m\u001b[1;33m(\u001b[0m\u001b[0mresized\u001b[0m\u001b[1;33m)\u001b[0m\u001b[1;33m:\u001b[0m\u001b[1;33m\u001b[0m\u001b[1;33m\u001b[0m\u001b[0m\n\u001b[0;32m      2\u001b[0m     \u001b[1;31m#new.save('{}{}'.format('/Users/Ishu/Desktop/car detector/test_images/',mylist[i]))\u001b[0m\u001b[1;33m\u001b[0m\u001b[1;33m\u001b[0m\u001b[1;33m\u001b[0m\u001b[0m\n\u001b[1;32m----> 3\u001b[1;33m     \u001b[0mnew\u001b[0m\u001b[1;33m.\u001b[0m\u001b[0msave\u001b[0m\u001b[1;33m(\u001b[0m\u001b[1;34m'{}{}'\u001b[0m\u001b[1;33m.\u001b[0m\u001b[0mformat\u001b[0m\u001b[1;33m(\u001b[0m\u001b[1;34m'/Users/Ishu/Desktop/vehicle classification/dataset/train_resized_512/f1/'\u001b[0m\u001b[1;33m,\u001b[0m\u001b[0mmylist\u001b[0m\u001b[1;33m[\u001b[0m\u001b[0mi\u001b[0m\u001b[1;33m]\u001b[0m\u001b[1;33m)\u001b[0m\u001b[1;33m)\u001b[0m\u001b[1;33m\u001b[0m\u001b[1;33m\u001b[0m\u001b[0m\n\u001b[0m",
      "\u001b[1;31mIndexError\u001b[0m: list index out of range"
     ]
    }
   ],
   "source": [
    "for (i,new) in enumerate(resized):\n",
    "    #new.save('{}{}'.format('/Users/Ishu/Desktop/car detector/test_images/',mylist[i]))\n",
    "    new.save('{}{}'.format('/Users/Ishu/Desktop/vehicle classification/dataset/train_resized_512/f1/',mylist[i]))"
   ]
  },
  {
   "cell_type": "code",
   "execution_count": null,
   "id": "7bb5c2ff",
   "metadata": {},
   "outputs": [],
   "source": []
  },
  {
   "cell_type": "code",
   "execution_count": null,
   "id": "0720d40c",
   "metadata": {},
   "outputs": [],
   "source": []
  }
 ],
 "metadata": {
  "kernelspec": {
   "display_name": "Python 3",
   "language": "python",
   "name": "python3"
  },
  "language_info": {
   "codemirror_mode": {
    "name": "ipython",
    "version": 3
   },
   "file_extension": ".py",
   "mimetype": "text/x-python",
   "name": "python",
   "nbconvert_exporter": "python",
   "pygments_lexer": "ipython3",
   "version": "3.6.13"
  }
 },
 "nbformat": 4,
 "nbformat_minor": 5
}
